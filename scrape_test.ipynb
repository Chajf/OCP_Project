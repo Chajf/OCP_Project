{
 "cells": [
  {
   "cell_type": "code",
   "execution_count": null,
   "metadata": {},
   "outputs": [],
   "source": [
    "from lxml import html\n",
    "import requests\n",
    "import re\n",
    "\n",
    "# Request the page\n",
    "#page = requests.get('https://boards.4chan.org/vt/thread/72706478')\n",
    "page = requests.get('https://boards.4chan.org/v/thread/673653330')\n",
    " \n",
    "# Parsing the page\n",
    "# (We need to use page.content rather than \n",
    "# page.text because html.fromstring implicitly\n",
    "# expects bytes as input.)\n",
    "tree = html.fromstring(page.content)  \n",
    " \n",
    "# Get element using XPath\n",
    "comments = tree.xpath('//*[contains(concat( \" \", @class, \" \" ), concat( \" \", \"reply\", \" \" ))]//*[contains(concat( \" \", @class, \" \" ), concat( \" \", \"postMessage\", \" \" ))]')"
   ]
  },
  {
   "cell_type": "code",
   "execution_count": null,
   "metadata": {},
   "outputs": [],
   "source": [
    "for comment in comments:\n",
    "    # Get the text content of the element and strip leading and trailing whitespace\n",
    "    text_content = comment.text_content().strip()\n",
    "    # Print the result\n",
    "    print(text_content)"
   ]
  },
  {
   "cell_type": "code",
   "execution_count": null,
   "metadata": {},
   "outputs": [],
   "source": [
    "#pattern = re.compile(r'>>?\\d+|>')\n",
    "pattern = re.compile(r'>>?\\d+')\n",
    "text_contents = [re.sub(pattern, '', comment.text_content().strip()).replace('\"', \"'\") for comment in comments]\n",
    "text_contents"
   ]
  },
  {
   "cell_type": "code",
   "execution_count": null,
   "metadata": {},
   "outputs": [],
   "source": [
    "from transformers import pipeline\n",
    "sentiment_pipeline = pipeline(\"sentiment-analysis\")\n",
    "data = [\"I love you\", \"I hate you\"]\n",
    "sentiment_pipeline(data)"
   ]
  },
  {
   "cell_type": "code",
   "execution_count": null,
   "metadata": {},
   "outputs": [],
   "source": [
    "coments_sentiment = sentiment_pipeline(text_contents)"
   ]
  },
  {
   "cell_type": "code",
   "execution_count": null,
   "metadata": {},
   "outputs": [],
   "source": [
    "coments_sentiment"
   ]
  },
  {
   "cell_type": "code",
   "execution_count": null,
   "metadata": {},
   "outputs": [],
   "source": [
    "from collections import Counter\n",
    "labels = [item['label'] for item in coments_sentiment]\n",
    "label_counts = Counter(labels)\n",
    "\n",
    "print(label_counts)"
   ]
  },
  {
   "cell_type": "code",
   "execution_count": null,
   "metadata": {},
   "outputs": [],
   "source": [
    "import mysql.connector\n",
    "\n",
    "connection = mysql.connector.connect(\n",
    "    host=\"localhost\",\n",
    "    user=\"root\",\n",
    "    password=\"admin\",\n",
    "    database=\"sentiment_database\"\n",
    ")"
   ]
  },
  {
   "cell_type": "code",
   "execution_count": null,
   "metadata": {},
   "outputs": [],
   "source": [
    "cursor = connection.cursor()"
   ]
  },
  {
   "cell_type": "code",
   "execution_count": null,
   "metadata": {},
   "outputs": [],
   "source": [
    "query = f'DELETE FROM comments'\n",
    "\n",
    "cursor.execute(query)"
   ]
  },
  {
   "cell_type": "code",
   "execution_count": null,
   "metadata": {},
   "outputs": [],
   "source": [
    "for item in text_contents:\n",
    "    query = f'INSERT INTO comments (text_content) VALUES (\"{item}\")'\n",
    "\n",
    "    cursor.execute(query)"
   ]
  },
  {
   "cell_type": "code",
   "execution_count": null,
   "metadata": {},
   "outputs": [],
   "source": [
    "query = \"INSERT INTO comments (text_content) VALUES ('Something new or an actual sequel. No more worst of both worlds crap.')\"\n",
    "cursor.execute(query)"
   ]
  },
  {
   "cell_type": "code",
   "execution_count": null,
   "metadata": {},
   "outputs": [],
   "source": [
    "query = \"SELECT COUNT(*) FROM comments\"\n",
    "cursor.execute(query)\n",
    "\n",
    "row_count = cursor.fetchone()[0]\n",
    "\n",
    "print(\"Number of rows:\", row_count)"
   ]
  },
  {
   "cell_type": "code",
   "execution_count": null,
   "metadata": {},
   "outputs": [],
   "source": [
    "# Execute DELETE query\n",
    "query = \"DELETE FROM comments\"\n",
    "cursor.execute(query)\n",
    "\n",
    "# Commit the transaction\n",
    "connection.commit()"
   ]
  },
  {
   "cell_type": "code",
   "execution_count": null,
   "metadata": {},
   "outputs": [],
   "source": [
    "query = \"SELECT * FROM comments LIMIT 5\"\n",
    "cursor.execute(query)\n",
    "\n",
    "# Fetch result\n",
    "rows = cursor.fetchall()\n",
    "\n",
    "# Display fetched rows\n",
    "for row in rows:\n",
    "    print(row)\n"
   ]
  },
  {
   "cell_type": "code",
   "execution_count": null,
   "metadata": {},
   "outputs": [],
   "source": [
    "query = \"SELECT text_content FROM comments LIMIT 5\"\n",
    "cursor.execute(query)\n",
    "\n",
    "# Fetch result\n",
    "rows = cursor.fetchall()\n",
    "\n",
    "print(rows)\n",
    "\n",
    "# Display fetched rows\n",
    "for row in rows:\n",
    "    print(row[0])\n"
   ]
  },
  {
   "cell_type": "code",
   "execution_count": null,
   "metadata": {},
   "outputs": [],
   "source": [
    "rows"
   ]
  },
  {
   "cell_type": "code",
   "execution_count": null,
   "metadata": {},
   "outputs": [],
   "source": [
    "connection.commit()\n",
    "cursor.close()\n",
    "connection.close()"
   ]
  }
 ],
 "metadata": {
  "kernelspec": {
   "display_name": "opc_proj",
   "language": "python",
   "name": "python3"
  },
  "language_info": {
   "codemirror_mode": {
    "name": "ipython",
    "version": 3
   },
   "file_extension": ".py",
   "mimetype": "text/x-python",
   "name": "python",
   "nbconvert_exporter": "python",
   "pygments_lexer": "ipython3",
   "version": "3.10.14"
  }
 },
 "nbformat": 4,
 "nbformat_minor": 2
}
